{
 "cells": [
  {
   "cell_type": "code",
   "execution_count": 1,
   "id": "aeeaa693",
   "metadata": {
    "ExecuteTime": {
     "end_time": "2023-08-18T13:53:32.223850Z",
     "start_time": "2023-08-18T13:53:29.076980Z"
    }
   },
   "outputs": [
    {
     "data": {
      "text/html": [
       "<style>.container { width:90% !important; }</style>"
      ],
      "text/plain": [
       "<IPython.core.display.HTML object>"
      ]
     },
     "metadata": {},
     "output_type": "display_data"
    },
    {
     "name": "stdout",
     "output_type": "stream",
     "text": [
      "Runnign magic qt5\n",
      "done\n",
      "False\n"
     ]
    }
   ],
   "source": [
    "init_jupyter()"
   ]
  },
  {
   "cell_type": "code",
   "execution_count": 2,
   "id": "d81b5a7b",
   "metadata": {
    "ExecuteTime": {
     "end_time": "2023-08-18T13:53:39.985010Z",
     "start_time": "2023-08-18T13:53:38.657449Z"
    }
   },
   "outputs": [],
   "source": [
    "from sage.all import *"
   ]
  },
  {
   "cell_type": "code",
   "execution_count": 37,
   "id": "0f6946a2",
   "metadata": {
    "ExecuteTime": {
     "end_time": "2023-08-18T14:19:25.023775Z",
     "start_time": "2023-08-18T14:19:25.006493Z"
    }
   },
   "outputs": [
    {
     "name": "stdout",
     "output_type": "stream",
     "text": [
      "[-(e^(2*u) - 2*e^u + 1)/((f - e^u)*(u - e^u + 1)), u^2/((f - u - 1)*(u - e^u + 1)), 1]\n",
      "f fx e^(-u) - 1\n",
      "[\n",
      "\n",
      "]\n",
      "f fx 1/(u + 1) - 1\n",
      "[\n",
      "\n",
      "]\n"
     ]
    }
   ],
   "source": [
    "x,f = var('x f')\n",
    "a = (f-1) / ((1-x) * (f-exp(x*(f-1))))\n",
    "u = var('u')\n",
    "\n",
    "a =a.subs(x==u/(f-1))\n",
    "ap = a.partial_fraction_decomposition(f)\n",
    "print(ap)\n",
    "tl = [A(term=f - exp(u), rem=exp(u)), A(term=f-u-1, rem=(u+1))]\n",
    "for i, tx in enumerate(tl):\n",
    "    px = ap[i]\n",
    "    mul = -tx.rem\n",
    "    v= 1/tx.rem\n",
    "    g = v - 1\n",
    "    fx=var('fx')\n",
    "    print(f,fx, g)\n",
    "    ff = solve(u==g, g)\n",
    "    print(ff)\n"
   ]
  },
  {
   "cell_type": "code",
   "execution_count": 26,
   "id": "9a17dedb",
   "metadata": {
    "ExecuteTime": {
     "end_time": "2023-08-18T14:09:35.702877Z",
     "start_time": "2023-08-18T14:09:35.698332Z"
    }
   },
   "outputs": [
    {
     "data": {
      "text/plain": [
       "f - e^u"
      ]
     },
     "execution_count": 26,
     "metadata": {},
     "output_type": "execute_result"
    }
   ],
   "source": [
    "tl[0].term"
   ]
  },
  {
   "cell_type": "code",
   "execution_count": 20,
   "id": "402ba6a4",
   "metadata": {
    "ExecuteTime": {
     "end_time": "2023-08-18T14:04:49.038998Z",
     "start_time": "2023-08-18T14:04:49.027884Z"
    }
   },
   "outputs": [
    {
     "name": "stdout",
     "output_type": "stream",
     "text": [
      "[-(e^(2*u) - 2*e^u + 1)/((f - e^u)*(u - e^u + 1)), u^2/((f - u - 1)*(u - e^u + 1)), 1]\n",
      "-(e^(2*u) - 2*e^u + 1)/(u - e^u + 1)\n",
      "u^2/(u - e^u + 1)\n"
     ]
    }
   ],
   "source": [
    "    "
   ]
  },
  {
   "cell_type": "code",
   "execution_count": 14,
   "id": "2b653555",
   "metadata": {
    "ExecuteTime": {
     "end_time": "2023-08-18T14:01:23.555558Z",
     "start_time": "2023-08-18T14:01:23.551619Z"
    }
   },
   "outputs": [
    {
     "data": {
      "text/plain": [
       "-(f - 1)/((f - e^u)*(u/(f - 1) - 1))"
      ]
     },
     "execution_count": 14,
     "metadata": {},
     "output_type": "execute_result"
    }
   ],
   "source": [
    "a"
   ]
  }
 ],
 "metadata": {
  "kernelspec": {
   "display_name": "env3",
   "language": "python",
   "name": "env3"
  },
  "language_info": {
   "codemirror_mode": {
    "name": "ipython",
    "version": 3
   },
   "file_extension": ".py",
   "mimetype": "text/x-python",
   "name": "python",
   "nbconvert_exporter": "python",
   "pygments_lexer": "ipython3",
   "version": "3.11.3"
  }
 },
 "nbformat": 4,
 "nbformat_minor": 5
}

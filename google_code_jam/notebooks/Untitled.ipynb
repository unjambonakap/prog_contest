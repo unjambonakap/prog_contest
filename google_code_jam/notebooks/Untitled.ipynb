{
 "cells": [
  {
   "cell_type": "code",
   "execution_count": 1,
   "id": "7b62d4be",
   "metadata": {
    "ExecuteTime": {
     "end_time": "2022-09-13T12:59:29.631164Z",
     "start_time": "2022-09-13T12:59:27.396303Z"
    }
   },
   "outputs": [
    {
     "data": {
      "text/html": [
       "<style>.container { width:90% !important; }</style>"
      ],
      "text/plain": [
       "<IPython.core.display.HTML object>"
      ]
     },
     "metadata": {},
     "output_type": "display_data"
    },
    {
     "name": "stdout",
     "output_type": "stream",
     "text": [
      "Got exception No module named 'unicorn'\n",
      "Runnign magic qt5\n",
      "done\n",
      "False\n"
     ]
    }
   ],
   "source": [
    "init_jupyter()"
   ]
  },
  {
   "cell_type": "code",
   "execution_count": 11,
   "id": "9bc6e7e7",
   "metadata": {
    "ExecuteTime": {
     "end_time": "2022-09-13T13:04:42.198742Z",
     "start_time": "2022-09-13T13:04:42.192879Z"
    }
   },
   "outputs": [
    {
     "data": {
      "text/plain": [
       "array(-174732936000000)"
      ]
     },
     "execution_count": 11,
     "metadata": {},
     "output_type": "execute_result"
    }
   ],
   "source": [
    "\n",
    "np.cross(pts[2] - pts[1], pts[3]-pts[1])"
   ]
  },
  {
   "cell_type": "code",
   "execution_count": 12,
   "id": "4650bf69",
   "metadata": {
    "ExecuteTime": {
     "end_time": "2022-09-13T13:06:30.184180Z",
     "start_time": "2022-09-13T13:06:29.441237Z"
    }
   },
   "outputs": [
    {
     "name": "stdout",
     "output_type": "stream",
     "text": [
      "QAPP\n",
      "CLOSING  <PyQt5.QtGui.QCloseEvent object at 0x7fc1d09cc9d0>\n"
     ]
    }
   ],
   "source": [
    "\n",
    "pts=((6, -8),(2, 10),(-10, 9),(9, -2),(4, -5),(-6, -5),(-10, 0),(-10, -10),(9, 3),(4, -2),(4, -3),(2, 6))\n",
    "hull = (7,6,2,1,8)\n",
    "\n",
    "hull=(0,3,11)\n",
    "pts=((-1, -3),(6, -6),(6, -5),(0, 10),(7, -7),(5, -2),(3, 8),(0, 3),(4, 9),(0, -8),(0, 0),(10, 10))\n",
    "pts=((-134609572, -33320739),(256869808, 514774082),(766390428, 377679261),(159132460, 642838292),(86456114, 738065337),(68301800, 761852742),(154060050, 649484617),(212984598, 572276407),(-546732557, 726006041),(184699148, 609338532),(216738368, 567357882),(-756609572, 781679261))\n",
    "hull = []\n",
    "pts = [\n",
    "(171660044, -451242935),\n",
    "(398170002, -317995243),\n",
    "(391975929, -321761197),\n",
    "(173322059, -450266153),\n",
    "(172187199, -450933121),\n",
    "(175116134, -295243043),\n",
    "\n",
    "      ]\n",
    "\n",
    "pts = np.array(pts) \n",
    "\n",
    "\n",
    "\n",
    "\n",
    "pts_hull = [(pts[hull[i]], pts[hull[i+1]]) for i in range(len(hull)-1)]\n",
    "\n",
    "\n",
    "    \n",
    "\n",
    "\n",
    "\n",
    "\n",
    "\n",
    "\n",
    "\n",
    "\n",
    "\n",
    "\n",
    "\n",
    "\n",
    "\n",
    "\n",
    "\n",
    "\n",
    "\n",
    "\n",
    "\n",
    "\n",
    "\n",
    "\n",
    "\n",
    "\n",
    "\n",
    "data = A(points=pts, lines=[], misc=[])\n",
    "data.misc = [A(text=str(i), pos=pt, color='r', font_size=20) for i, pt in enumerate(pts)]\n",
    "data.lines.extend(pts_hull)\n",
    "oplt.plot(data)\n"
   ]
  }
 ],
 "metadata": {
  "kernelspec": {
   "display_name": "env3",
   "language": "python",
   "name": "env3"
  },
  "language_info": {
   "codemirror_mode": {
    "name": "ipython",
    "version": 3
   },
   "file_extension": ".py",
   "mimetype": "text/x-python",
   "name": "python",
   "nbconvert_exporter": "python",
   "pygments_lexer": "ipython3",
   "version": "3.10.5"
  }
 },
 "nbformat": 4,
 "nbformat_minor": 5
}

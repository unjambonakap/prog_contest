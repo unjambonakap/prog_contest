{
 "cells": [
  {
   "cell_type": "code",
   "execution_count": 4,
   "id": "incident-capital",
   "metadata": {
    "ExecuteTime": {
     "end_time": "2021-04-27T07:42:21.326244Z",
     "start_time": "2021-04-27T07:42:17.890489Z"
    }
   },
   "outputs": [
    {
     "data": {
      "text/html": [
       "<style>.container { width:90% !important; }</style>"
      ],
      "text/plain": [
       "<IPython.core.display.HTML object>"
      ]
     },
     "metadata": {},
     "output_type": "display_data"
    },
    {
     "name": "stdout",
     "output_type": "stream",
     "text": [
      "Got exception No module named 'unicorn'\n",
      "Runnign magic qt5\n",
      "done\n"
     ]
    }
   ],
   "source": [
    "init_jupyter()"
   ]
  },
  {
   "cell_type": "code",
   "execution_count": 6,
   "id": "interim-migration",
   "metadata": {
    "ExecuteTime": {
     "end_time": "2021-04-27T07:45:28.743635Z",
     "start_time": "2021-04-27T07:45:27.076596Z"
    }
   },
   "outputs": [
    {
     "name": "stdout",
     "output_type": "stream",
     "text": [
      "QAPP\n",
      ">>  Box(low=(0.0, 0.0), high=(0.0, 0.0), is_int=0) 1\n",
      "CLOSING  <PyQt5.QtGui.QCloseEvent object at 0x7f1d8fb8d1f0>\n"
     ]
    }
   ],
   "source": [
    "oplt.plot([A(misc=[A(text='123', pos=(0,0))])])"
   ]
  },
  {
   "cell_type": "code",
   "execution_count": 31,
   "id": "excited-registrar",
   "metadata": {
    "ExecuteTime": {
     "end_time": "2021-04-27T08:01:01.676268Z",
     "start_time": "2021-04-27T08:00:59.841111Z"
    }
   },
   "outputs": [
    {
     "name": "stdout",
     "output_type": "stream",
     "text": [
      "QAPP\n",
      "<Line at 0x7f1d8d3c1580>\n",
      ">>  Box(low=(-10, 0), high=(18, 10), is_int=0) 23\n",
      "CLOSING  <PyQt5.QtGui.QCloseEvent object at 0x7f1d8e387d30>\n"
     ]
    }
   ],
   "source": [
    "def render(t):\n",
    "  elems = A(misc=[], lines=[])\n",
    "  for i, x in enumerate(t.edges):\n",
    "    \n",
    "    elems.misc.append(A(text=str(i+1), pos=(x[0] + x[1])/2))\n",
    "    elems.lines.append(x)\n",
    "  \n",
    "  oplt.plot([elems])\n",
    "            "
   ]
  },
  {
   "cell_type": "code",
   "execution_count": 40,
   "id": "automatic-member",
   "metadata": {
    "ExecuteTime": {
     "end_time": "2021-04-27T10:17:03.881775Z",
     "start_time": "2021-04-27T10:17:02.299017Z"
    }
   },
   "outputs": [
    {
     "name": "stdout",
     "output_type": "stream",
     "text": [
      "QAPP\n",
      "<Line at 0x7f1d9d3b7a00>\n",
      ">>  Box(low=(3, 27), high=(83, 97), is_int=0) 17\n",
      "CLOSING  <PyQt5.QtGui.QCloseEvent object at 0x7f1d8c94ae50>\n"
     ]
    }
   ],
   "source": [
    "import re\n",
    "text = open('../r3/fake.in', 'r').read().strip()\n",
    "ints = iter(map(int, re.split('\\s', text, flags=re.MULTILINE)))\n",
    "\n",
    "tests = []\n",
    "nt = next(ints)\n",
    "for i in range(nt):\n",
    "  t = A()\n",
    "  tests.append(t)\n",
    "  nf, k = next(ints), next(ints)\n",
    "  t.edges = []\n",
    "  for j in range(nf):\n",
    "    pl = np.array([(next(ints), next(ints)), (next(ints), next(ints))])\n",
    "    t.edges.append(pl)\n",
    "\n",
    "render(tests[0])"
   ]
  },
  {
   "cell_type": "code",
   "execution_count": 33,
   "id": "operational-columbia",
   "metadata": {
    "ExecuteTime": {
     "end_time": "2021-04-27T10:03:06.935215Z",
     "start_time": "2021-04-27T10:03:05.015833Z"
    }
   },
   "outputs": [
    {
     "name": "stdout",
     "output_type": "stream",
     "text": [
      "QAPP\n",
      "<Line at 0x7f1d8eacd460>\n",
      ">>  Box(low=(3, 1), high=(99, 97), is_int=0) 19\n",
      "CLOSING  <PyQt5.QtGui.QCloseEvent object at 0x7f1d8c81a310>\n"
     ]
    }
   ],
   "source": []
  }
 ],
 "metadata": {
  "kernelspec": {
   "display_name": "env3",
   "language": "python",
   "name": "env3"
  },
  "language_info": {
   "codemirror_mode": {
    "name": "ipython",
    "version": 3
   },
   "file_extension": ".py",
   "mimetype": "text/x-python",
   "name": "python",
   "nbconvert_exporter": "python",
   "pygments_lexer": "ipython3",
   "version": "3.9.2"
  }
 },
 "nbformat": 4,
 "nbformat_minor": 5
}

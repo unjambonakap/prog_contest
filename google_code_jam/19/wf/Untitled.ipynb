{
 "cells": [
  {
   "cell_type": "code",
   "execution_count": 1,
   "id": "5ff96f6c",
   "metadata": {
    "ExecuteTime": {
     "end_time": "2021-08-10T21:30:07.837277Z",
     "start_time": "2021-08-10T21:29:59.971529Z"
    }
   },
   "outputs": [
    {
     "data": {
      "text/html": [
       "<style>.container { width:90% !important; }</style>"
      ],
      "text/plain": [
       "<IPython.core.display.HTML object>"
      ]
     },
     "metadata": {},
     "output_type": "display_data"
    },
    {
     "name": "stdout",
     "output_type": "stream",
     "text": [
      "Got exception No module named 'unicorn'\n",
      "Runnign magic qt5\n",
      "done\n"
     ]
    }
   ],
   "source": [
    "init_jupyter()"
   ]
  },
  {
   "cell_type": "code",
   "execution_count": 11,
   "id": "7513c196",
   "metadata": {
    "ExecuteTime": {
     "end_time": "2021-08-10T21:43:13.739402Z",
     "start_time": "2021-08-10T21:42:08.766333Z"
    }
   },
   "outputs": [
    {
     "name": "stdout",
     "output_type": "stream",
     "text": [
      "16 (0, 1, 2, 3)\n",
      "13 (0, 1, 2, 4)\n",
      "11 (0, 1, 2, 5)\n",
      "10 (0, 1, 2, 6)\n",
      "9 (0, 1, 2, 7)\n",
      "8 (0, 1, 2, 9)\n",
      "7 (0, 1, 3, 11)\n",
      "6 (0, 1, 4, 21)\n",
      "5 (1, 2, 5, 18)\n",
      "4 (1, 3, 12, 20)\n"
     ]
    }
   ],
   "source": [
    "import itertools\n",
    "n = 50\n",
    "can_pick = 4\n",
    "mod = n-1\n",
    "lst = list(range(mod))\n",
    "def analyse(choice):\n",
    "  inf = n+1\n",
    "  tb = [inf] * len(lst)\n",
    "  q = Z.Queue()\n",
    "  tb[0] = 0\n",
    "  q.put(0)\n",
    "  while not q.empty():\n",
    "    a = q.get()\n",
    "    cost = tb[a] + 1\n",
    "    for c in choice:\n",
    "      nv  = (a+c)%mod\n",
    "      if tb[nv] > cost:\n",
    "        tb[nv] = cost\n",
    "        q.put(nv)\n",
    "  \n",
    "  return max(tb)\n",
    "\n",
    "best = n\n",
    "for x in itertools.combinations(lst, can_pick):\n",
    "  cnd = analyse(x)\n",
    "  if cnd < best:\n",
    "    best = cnd\n",
    "    print(best, x)\n",
    "  \n",
    "  \n",
    "  "
   ]
  },
  {
   "cell_type": "code",
   "execution_count": null,
   "id": "6a3e9b09",
   "metadata": {
    "ExecuteTime": {
     "end_time": "2021-08-10T21:41:14.590382Z",
     "start_time": "2021-08-10T21:40:28.867Z"
    }
   },
   "outputs": [],
   "source": [
    "best"
   ]
  }
 ],
 "metadata": {
  "kernelspec": {
   "display_name": "env3",
   "language": "python",
   "name": "env3"
  },
  "language_info": {
   "codemirror_mode": {
    "name": "ipython",
    "version": 3
   },
   "file_extension": ".py",
   "mimetype": "text/x-python",
   "name": "python",
   "nbconvert_exporter": "python",
   "pygments_lexer": "ipython3",
   "version": "3.9.4"
  }
 },
 "nbformat": 4,
 "nbformat_minor": 5
}

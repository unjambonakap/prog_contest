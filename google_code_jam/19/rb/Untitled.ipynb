{
 "cells": [
  {
   "cell_type": "code",
   "execution_count": 1,
   "id": "27f1131e",
   "metadata": {
    "ExecuteTime": {
     "end_time": "2021-06-03T20:03:49.702719Z",
     "start_time": "2021-06-03T20:03:44.594277Z"
    }
   },
   "outputs": [
    {
     "data": {
      "text/html": [
       "<style>.container { width:90% !important; }</style>"
      ],
      "text/plain": [
       "<IPython.core.display.HTML object>"
      ]
     },
     "metadata": {},
     "output_type": "display_data"
    },
    {
     "name": "stdout",
     "output_type": "stream",
     "text": [
      "Got exception No module named 'unicorn'\n",
      "Runnign magic qt5\n",
      "done\n"
     ]
    }
   ],
   "source": [
    "init_jupyter()"
   ]
  },
  {
   "cell_type": "code",
   "execution_count": 14,
   "id": "f537df96",
   "metadata": {
    "ExecuteTime": {
     "end_time": "2021-06-03T20:06:34.406398Z",
     "start_time": "2021-06-03T20:06:34.384549Z"
    }
   },
   "outputs": [
    {
     "name": "stdout",
     "output_type": "stream",
     "text": [
      "0 2\n",
      "1 2\n",
      "2 2\n",
      "3 2\n",
      "4 3\n",
      "5 3\n",
      "6 3\n",
      "7 3\n",
      "8 4\n",
      "9 7\n",
      "10 10\n",
      "11 13\n"
     ]
    }
   ],
   "source": [
    "\n",
    "def test(n1, n2):\n",
    "  uj = Z.graph_base.UnionJoinLax()\n",
    "  for i in range(n1*n2):\n",
    "    i1 = i % n1\n",
    "    i2 = i % n2\n",
    "    uj.join(i1, n1+i2)\n",
    "    cx = uj.cnt(i1)\n",
    "    print(i, cx)\n",
    "    if cx == n1 + n2: break\n",
    "    \n",
    "    \n",
    "test(9, 4)"
   ]
  },
  {
   "cell_type": "code",
   "execution_count": null,
   "id": "de90cf2c",
   "metadata": {},
   "outputs": [],
   "source": []
  }
 ],
 "metadata": {
  "kernelspec": {
   "display_name": "env3",
   "language": "python",
   "name": "env3"
  },
  "language_info": {
   "codemirror_mode": {
    "name": "ipython",
    "version": 3
   },
   "file_extension": ".py",
   "mimetype": "text/x-python",
   "name": "python",
   "nbconvert_exporter": "python",
   "pygments_lexer": "ipython3",
   "version": "3.9.4"
  }
 },
 "nbformat": 4,
 "nbformat_minor": 5
}
